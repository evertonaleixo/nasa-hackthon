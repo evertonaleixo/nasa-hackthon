{
 "cells": [
  {
   "cell_type": "code",
   "execution_count": 2,
   "metadata": {},
   "outputs": [],
   "source": [
    "import pandas as pd"
   ]
  },
  {
   "cell_type": "code",
   "execution_count": 3,
   "metadata": {},
   "outputs": [],
   "source": [
    "# Data of counties\n",
    "# https://github.com/nazareno/diferentonas-server/tree/master/dist/data\n",
    "fire_incidents = pd.read_csv('VNP14IMGTDL_NRT_Central_America_24h.csv')\n",
    "counties = pd.read_csv('dados2010.csv')"
   ]
  },
  {
   "cell_type": "code",
   "execution_count": 16,
   "metadata": {},
   "outputs": [
    {
     "data": {
      "text/plain": [
       "5282"
      ]
     },
     "execution_count": 16,
     "metadata": {},
     "output_type": "execute_result"
    }
   ],
   "source": [
    "len(counties.values[counties.values[:,8] < 100000])"
   ]
  },
  {
   "cell_type": "code",
   "execution_count": 17,
   "metadata": {},
   "outputs": [
    {
     "data": {
      "text/plain": [
       "latitude         18.9265\n",
       "longitude        -70.352\n",
       "bright_ti4         343.7\n",
       "scan                0.53\n",
       "track               0.42\n",
       "acq_date      2019-10-18\n",
       "acq_time             600\n",
       "satellite              N\n",
       "confidence       nominal\n",
       "version           1.0NRT\n",
       "bright_ti5         295.3\n",
       "frp                 19.5\n",
       "daynight               N\n",
       "Name: 0, dtype: object"
      ]
     },
     "execution_count": 17,
     "metadata": {},
     "output_type": "execute_result"
    }
   ],
   "source": [
    "# conda install geopandas\n",
    "from shapely.geometry import Point\n",
    "counties.iloc[0]['lat'], counties.iloc[0]['long']\n",
    "fire_incidents.iloc[0]"
   ]
  },
  {
   "cell_type": "code",
   "execution_count": 39,
   "metadata": {},
   "outputs": [],
   "source": [
    "p1 = Point(fire_incidents.iloc[0][0], fire_incidents.iloc[0][1])\n",
    "p2 = Point(fire_incidents.iloc[1][0], fire_incidents.iloc[1][1])"
   ]
  },
  {
   "cell_type": "code",
   "execution_count": 42,
   "metadata": {},
   "outputs": [
    {
     "name": "stdout",
     "output_type": "stream",
     "text": [
      "POINT (18.92646 -70.35196999999999)\n",
      "POINT (18.92712 -70.35710999999999)\n"
     ]
    },
    {
     "data": {
      "text/plain": [
       "518.2200304887072"
      ]
     },
     "execution_count": 42,
     "metadata": {},
     "output_type": "execute_result"
    }
   ],
   "source": [
    "print(p1)\n",
    "print(p2)\n",
    "p1.distance(p2)*100000"
   ]
  },
  {
   "cell_type": "code",
   "execution_count": 43,
   "metadata": {},
   "outputs": [
    {
     "name": "stdout",
     "output_type": "stream",
     "text": [
      "POINT (18.92646 -70.35196999999999)\n",
      "POINT (18.829578 -70.43392)\n"
     ]
    },
    {
     "data": {
      "text/plain": [
       "12689.335847080874"
      ]
     },
     "execution_count": 43,
     "metadata": {},
     "output_type": "execute_result"
    }
   ],
   "source": [
    "p1 = Point(fire_incidents.iloc[0][0], fire_incidents.iloc[0][1])\n",
    "p2 = Point(18.829578, -70.433920)\n",
    "\n",
    "print(p1)\n",
    "print(p2)\n",
    "p1.distance(p2)*100000"
   ]
  },
  {
   "cell_type": "markdown",
   "metadata": {},
   "source": [
    "## To each country verify how many incidents happen neart it"
   ]
  },
  {
   "cell_type": "code",
   "execution_count": 18,
   "metadata": {},
   "outputs": [
    {
     "data": {
      "text/plain": [
       "[(<shapely.geometry.point.Point at 0x7f9d847d35f8>, 6),\n",
       " (<shapely.geometry.point.Point at 0x7f9d847d3668>, 9),\n",
       " (<shapely.geometry.point.Point at 0x7f9d847d35c0>, 3),\n",
       " (<shapely.geometry.point.Point at 0x7f9d847d36a0>, 3),\n",
       " (<shapely.geometry.point.Point at 0x7f9d847d36d8>, 5),\n",
       " (<shapely.geometry.point.Point at 0x7f9d847d3748>, 2),\n",
       " (<shapely.geometry.point.Point at 0x7f9d847d3780>, 6),\n",
       " (<shapely.geometry.point.Point at 0x7f9d847d37f0>, 6),\n",
       " (<shapely.geometry.point.Point at 0x7f9d847d3710>, 6),\n",
       " (<shapely.geometry.point.Point at 0x7f9d847d3828>, 5),\n",
       " (<shapely.geometry.point.Point at 0x7f9d847d37b8>, 6),\n",
       " (<shapely.geometry.point.Point at 0x7f9d847d3860>, 6),\n",
       " (<shapely.geometry.point.Point at 0x7f9d847d38d0>, 3),\n",
       " (<shapely.geometry.point.Point at 0x7f9d847d3940>, 3),\n",
       " (<shapely.geometry.point.Point at 0x7f9d847d3898>, 3),\n",
       " (<shapely.geometry.point.Point at 0x7f9d847d3908>, 5),\n",
       " (<shapely.geometry.point.Point at 0x7f9d847d3978>, 3),\n",
       " (<shapely.geometry.point.Point at 0x7f9d847d39e8>, 5),\n",
       " (<shapely.geometry.point.Point at 0x7f9d847d39b0>, 3),\n",
       " (<shapely.geometry.point.Point at 0x7f9d847d3a20>, 6),\n",
       " (<shapely.geometry.point.Point at 0x7f9d847d3a58>, 9),\n",
       " (<shapely.geometry.point.Point at 0x7f9d847d3ac8>, 5),\n",
       " (<shapely.geometry.point.Point at 0x7f9d847d3a90>, 6),\n",
       " (<shapely.geometry.point.Point at 0x7f9d847d3b38>, 9),\n",
       " (<shapely.geometry.point.Point at 0x7f9d847d3b00>, 6),\n",
       " (<shapely.geometry.point.Point at 0x7f9d847d3b70>, 3),\n",
       " (<shapely.geometry.point.Point at 0x7f9d847d3ba8>, 3),\n",
       " (<shapely.geometry.point.Point at 0x7f9d847d3c18>, 9),\n",
       " (<shapely.geometry.point.Point at 0x7f9d847d3be0>, 2),\n",
       " (<shapely.geometry.point.Point at 0x7f9d847d3c88>, 5),\n",
       " (<shapely.geometry.point.Point at 0x7f9d847d3cc0>, 3),\n",
       " (<shapely.geometry.point.Point at 0x7f9d847d3d30>, 3),\n",
       " (<shapely.geometry.point.Point at 0x7f9d847d3c50>, 5),\n",
       " (<shapely.geometry.point.Point at 0x7f9d847d3d68>, 3),\n",
       " (<shapely.geometry.point.Point at 0x7f9d847d3cf8>, 3),\n",
       " (<shapely.geometry.point.Point at 0x7f9d847d3da0>, 5),\n",
       " (<shapely.geometry.point.Point at 0x7f9d847d3dd8>, 2),\n",
       " (<shapely.geometry.point.Point at 0x7f9d847d3e10>, 3),\n",
       " (<shapely.geometry.point.Point at 0x7f9d847d3e48>, 3),\n",
       " (<shapely.geometry.point.Point at 0x7f9d847d3eb8>, 6),\n",
       " (<shapely.geometry.point.Point at 0x7f9d847d3f28>, 6),\n",
       " (<shapely.geometry.point.Point at 0x7f9d847d3e80>, 2),\n",
       " (<shapely.geometry.point.Point at 0x7f9d847d3f60>, 5),\n",
       " (<shapely.geometry.point.Point at 0x7f9d847d3ef0>, 3),\n",
       " (<shapely.geometry.point.Point at 0x7f9d847d3f98>, 3),\n",
       " (<shapely.geometry.point.Point at 0x7f9d84023048>, 3),\n",
       " (<shapely.geometry.point.Point at 0x7f9d847d3fd0>, 9),\n",
       " (<shapely.geometry.point.Point at 0x7f9d840230b8>, 2),\n",
       " (<shapely.geometry.point.Point at 0x7f9d84023080>, 3),\n",
       " (<shapely.geometry.point.Point at 0x7f9d840230f0>, 5),\n",
       " (<shapely.geometry.point.Point at 0x7f9d84023160>, 9),\n",
       " (<shapely.geometry.point.Point at 0x7f9d840231d0>, 9),\n",
       " (<shapely.geometry.point.Point at 0x7f9d84023208>, 5),\n",
       " (<shapely.geometry.point.Point at 0x7f9d84023240>, 5),\n",
       " (<shapely.geometry.point.Point at 0x7f9d84023278>, 9),\n",
       " (<shapely.geometry.point.Point at 0x7f9d840232b0>, 5),\n",
       " (<shapely.geometry.point.Point at 0x7f9d840232e8>, 3),\n",
       " (<shapely.geometry.point.Point at 0x7f9d84023320>, 9),\n",
       " (<shapely.geometry.point.Point at 0x7f9d84023358>, 6),\n",
       " (<shapely.geometry.point.Point at 0x7f9d84023128>, 3),\n",
       " (<shapely.geometry.point.Point at 0x7f9d84023390>, 5),\n",
       " (<shapely.geometry.point.Point at 0x7f9d840233c8>, 9),\n",
       " (<shapely.geometry.point.Point at 0x7f9d84023198>, 3),\n",
       " (<shapely.geometry.point.Point at 0x7f9d84023438>, 3),\n",
       " (<shapely.geometry.point.Point at 0x7f9d84023400>, 5),\n",
       " (<shapely.geometry.point.Point at 0x7f9d84023470>, 6),\n",
       " (<shapely.geometry.point.Point at 0x7f9d840234e0>, 5),\n",
       " (<shapely.geometry.point.Point at 0x7f9d840234a8>, 2),\n",
       " (<shapely.geometry.point.Point at 0x7f9d84023550>, 3),\n",
       " (<shapely.geometry.point.Point at 0x7f9d84023518>, 3),\n",
       " (<shapely.geometry.point.Point at 0x7f9d840235c0>, 2),\n",
       " (<shapely.geometry.point.Point at 0x7f9d84023588>, 3),\n",
       " (<shapely.geometry.point.Point at 0x7f9d840235f8>, 3),\n",
       " (<shapely.geometry.point.Point at 0x7f9d84023630>, 2),\n",
       " (<shapely.geometry.point.Point at 0x7f9d840236a0>, 2),\n",
       " (<shapely.geometry.point.Point at 0x7f9d840236d8>, 3),\n",
       " (<shapely.geometry.point.Point at 0x7f9d84023748>, 3),\n",
       " (<shapely.geometry.point.Point at 0x7f9d84023780>, 6),\n",
       " (<shapely.geometry.point.Point at 0x7f9d840237b8>, 3),\n",
       " (<shapely.geometry.point.Point at 0x7f9d84023668>, 3),\n",
       " (<shapely.geometry.point.Point at 0x7f9d84023710>, 3),\n",
       " (<shapely.geometry.point.Point at 0x7f9d840237f0>, 9),\n",
       " (<shapely.geometry.point.Point at 0x7f9d84023860>, 5),\n",
       " (<shapely.geometry.point.Point at 0x7f9d84023898>, 6),\n",
       " (<shapely.geometry.point.Point at 0x7f9d84023828>, 3),\n",
       " (<shapely.geometry.point.Point at 0x7f9d84023908>, 6),\n",
       " (<shapely.geometry.point.Point at 0x7f9d84023940>, 2),\n",
       " (<shapely.geometry.point.Point at 0x7f9d840238d0>, 3),\n",
       " (<shapely.geometry.point.Point at 0x7f9d840239b0>, 3),\n",
       " (<shapely.geometry.point.Point at 0x7f9d840239e8>, 2),\n",
       " (<shapely.geometry.point.Point at 0x7f9d84023978>, 3),\n",
       " (<shapely.geometry.point.Point at 0x7f9d84023a58>, 6),\n",
       " (<shapely.geometry.point.Point at 0x7f9d84023a20>, 3),\n",
       " (<shapely.geometry.point.Point at 0x7f9d84023a90>, 2),\n",
       " (<shapely.geometry.point.Point at 0x7f9d84023b00>, 3),\n",
       " (<shapely.geometry.point.Point at 0x7f9d84023ac8>, 6),\n",
       " (<shapely.geometry.point.Point at 0x7f9d84023b70>, 6),\n",
       " (<shapely.geometry.point.Point at 0x7f9d84023b38>, 2),\n",
       " (<shapely.geometry.point.Point at 0x7f9d84023be0>, 3),\n",
       " (<shapely.geometry.point.Point at 0x7f9d84023ba8>, 3),\n",
       " (<shapely.geometry.point.Point at 0x7f9d84023c50>, 3),\n",
       " (<shapely.geometry.point.Point at 0x7f9d84023c88>, 3),\n",
       " (<shapely.geometry.point.Point at 0x7f9d84023c18>, 3),\n",
       " (<shapely.geometry.point.Point at 0x7f9d84023cc0>, 2),\n",
       " (<shapely.geometry.point.Point at 0x7f9d84023cf8>, 3),\n",
       " (<shapely.geometry.point.Point at 0x7f9d84023d68>, 3),\n",
       " (<shapely.geometry.point.Point at 0x7f9d84023da0>, 3),\n",
       " (<shapely.geometry.point.Point at 0x7f9d84023d30>, 2),\n",
       " (<shapely.geometry.point.Point at 0x7f9d84023dd8>, 3),\n",
       " (<shapely.geometry.point.Point at 0x7f9d84023e80>, 3),\n",
       " (<shapely.geometry.point.Point at 0x7f9d84023eb8>, 3),\n",
       " (<shapely.geometry.point.Point at 0x7f9d84023ef0>, 234),\n",
       " (<shapely.geometry.point.Point at 0x7f9d84023e10>, 3),\n",
       " (<shapely.geometry.point.Point at 0x7f9d84023f28>, 3),\n",
       " (<shapely.geometry.point.Point at 0x7f9d84023f60>, 3),\n",
       " (<shapely.geometry.point.Point at 0x7f9d84023fd0>, 5),\n",
       " (<shapely.geometry.point.Point at 0x7f9d84023e48>, 3),\n",
       " (<shapely.geometry.point.Point at 0x7f9d84029048>, 5),\n",
       " (<shapely.geometry.point.Point at 0x7f9d84023f98>, 3),\n",
       " (<shapely.geometry.point.Point at 0x7f9d840290b8>, 3),\n",
       " (<shapely.geometry.point.Point at 0x7f9d84029080>, 2),\n",
       " (<shapely.geometry.point.Point at 0x7f9d840290f0>, 2),\n",
       " (<shapely.geometry.point.Point at 0x7f9d84029128>, 3),\n",
       " (<shapely.geometry.point.Point at 0x7f9d84029198>, 2),\n",
       " (<shapely.geometry.point.Point at 0x7f9d84029160>, 3),\n",
       " (<shapely.geometry.point.Point at 0x7f9d840291d0>, 3),\n",
       " (<shapely.geometry.point.Point at 0x7f9d84029278>, 3),\n",
       " (<shapely.geometry.point.Point at 0x7f9d840292b0>, 2),\n",
       " (<shapely.geometry.point.Point at 0x7f9d840292e8>, 2)]"
      ]
     },
     "execution_count": 18,
     "metadata": {},
     "output_type": "execute_result"
    }
   ],
   "source": [
    "fires_by_countrie = []\n",
    "for contry in counties.values:\n",
    "    num_fires = 0\n",
    "    p1 = Point(contry[-3], contry[-2])\n",
    "    for fires in fire_incidents.values:\n",
    "        p2 = Point(fires[0], fires[0])\n",
    "#         print(p1.distance(p2), p1.distance(p2)*100000)\n",
    "        if p1.distance(p2) < 45:\n",
    "            num_fires = num_fires+1\n",
    "    \n",
    "    if num_fires > 0:\n",
    "        fires_by_countrie.append((p1, num_fires))\n",
    "        \n",
    "fires_by_countrie"
   ]
  },
  {
   "cell_type": "code",
   "execution_count": 19,
   "metadata": {},
   "outputs": [
    {
     "data": {
      "text/plain": [
       "[(<shapely.geometry.point.Point at 0x7f9d84023ef0>, 234),\n",
       " (<shapely.geometry.point.Point at 0x7f9d847d3668>, 9),\n",
       " (<shapely.geometry.point.Point at 0x7f9d847d3a58>, 9),\n",
       " (<shapely.geometry.point.Point at 0x7f9d847d3b38>, 9),\n",
       " (<shapely.geometry.point.Point at 0x7f9d847d3c18>, 9),\n",
       " (<shapely.geometry.point.Point at 0x7f9d847d3fd0>, 9),\n",
       " (<shapely.geometry.point.Point at 0x7f9d84023160>, 9),\n",
       " (<shapely.geometry.point.Point at 0x7f9d840231d0>, 9),\n",
       " (<shapely.geometry.point.Point at 0x7f9d84023278>, 9),\n",
       " (<shapely.geometry.point.Point at 0x7f9d84023320>, 9),\n",
       " (<shapely.geometry.point.Point at 0x7f9d840233c8>, 9),\n",
       " (<shapely.geometry.point.Point at 0x7f9d840237f0>, 9),\n",
       " (<shapely.geometry.point.Point at 0x7f9d847d35f8>, 6),\n",
       " (<shapely.geometry.point.Point at 0x7f9d847d3780>, 6),\n",
       " (<shapely.geometry.point.Point at 0x7f9d847d37f0>, 6),\n",
       " (<shapely.geometry.point.Point at 0x7f9d847d3710>, 6),\n",
       " (<shapely.geometry.point.Point at 0x7f9d847d37b8>, 6),\n",
       " (<shapely.geometry.point.Point at 0x7f9d847d3860>, 6),\n",
       " (<shapely.geometry.point.Point at 0x7f9d847d3a20>, 6),\n",
       " (<shapely.geometry.point.Point at 0x7f9d847d3a90>, 6),\n",
       " (<shapely.geometry.point.Point at 0x7f9d847d3b00>, 6),\n",
       " (<shapely.geometry.point.Point at 0x7f9d847d3eb8>, 6),\n",
       " (<shapely.geometry.point.Point at 0x7f9d847d3f28>, 6),\n",
       " (<shapely.geometry.point.Point at 0x7f9d84023358>, 6),\n",
       " (<shapely.geometry.point.Point at 0x7f9d84023470>, 6),\n",
       " (<shapely.geometry.point.Point at 0x7f9d84023780>, 6),\n",
       " (<shapely.geometry.point.Point at 0x7f9d84023898>, 6),\n",
       " (<shapely.geometry.point.Point at 0x7f9d84023908>, 6),\n",
       " (<shapely.geometry.point.Point at 0x7f9d84023a58>, 6),\n",
       " (<shapely.geometry.point.Point at 0x7f9d84023ac8>, 6),\n",
       " (<shapely.geometry.point.Point at 0x7f9d84023b70>, 6),\n",
       " (<shapely.geometry.point.Point at 0x7f9d847d36d8>, 5),\n",
       " (<shapely.geometry.point.Point at 0x7f9d847d3828>, 5),\n",
       " (<shapely.geometry.point.Point at 0x7f9d847d3908>, 5),\n",
       " (<shapely.geometry.point.Point at 0x7f9d847d39e8>, 5),\n",
       " (<shapely.geometry.point.Point at 0x7f9d847d3ac8>, 5),\n",
       " (<shapely.geometry.point.Point at 0x7f9d847d3c88>, 5),\n",
       " (<shapely.geometry.point.Point at 0x7f9d847d3c50>, 5),\n",
       " (<shapely.geometry.point.Point at 0x7f9d847d3da0>, 5),\n",
       " (<shapely.geometry.point.Point at 0x7f9d847d3f60>, 5),\n",
       " (<shapely.geometry.point.Point at 0x7f9d840230f0>, 5),\n",
       " (<shapely.geometry.point.Point at 0x7f9d84023208>, 5),\n",
       " (<shapely.geometry.point.Point at 0x7f9d84023240>, 5),\n",
       " (<shapely.geometry.point.Point at 0x7f9d840232b0>, 5),\n",
       " (<shapely.geometry.point.Point at 0x7f9d84023390>, 5),\n",
       " (<shapely.geometry.point.Point at 0x7f9d84023400>, 5),\n",
       " (<shapely.geometry.point.Point at 0x7f9d840234e0>, 5),\n",
       " (<shapely.geometry.point.Point at 0x7f9d84023860>, 5),\n",
       " (<shapely.geometry.point.Point at 0x7f9d84023fd0>, 5),\n",
       " (<shapely.geometry.point.Point at 0x7f9d84029048>, 5),\n",
       " (<shapely.geometry.point.Point at 0x7f9d847d35c0>, 3),\n",
       " (<shapely.geometry.point.Point at 0x7f9d847d36a0>, 3),\n",
       " (<shapely.geometry.point.Point at 0x7f9d847d38d0>, 3),\n",
       " (<shapely.geometry.point.Point at 0x7f9d847d3940>, 3),\n",
       " (<shapely.geometry.point.Point at 0x7f9d847d3898>, 3),\n",
       " (<shapely.geometry.point.Point at 0x7f9d847d3978>, 3),\n",
       " (<shapely.geometry.point.Point at 0x7f9d847d39b0>, 3),\n",
       " (<shapely.geometry.point.Point at 0x7f9d847d3b70>, 3),\n",
       " (<shapely.geometry.point.Point at 0x7f9d847d3ba8>, 3),\n",
       " (<shapely.geometry.point.Point at 0x7f9d847d3cc0>, 3),\n",
       " (<shapely.geometry.point.Point at 0x7f9d847d3d30>, 3),\n",
       " (<shapely.geometry.point.Point at 0x7f9d847d3d68>, 3),\n",
       " (<shapely.geometry.point.Point at 0x7f9d847d3cf8>, 3),\n",
       " (<shapely.geometry.point.Point at 0x7f9d847d3e10>, 3),\n",
       " (<shapely.geometry.point.Point at 0x7f9d847d3e48>, 3),\n",
       " (<shapely.geometry.point.Point at 0x7f9d847d3ef0>, 3),\n",
       " (<shapely.geometry.point.Point at 0x7f9d847d3f98>, 3),\n",
       " (<shapely.geometry.point.Point at 0x7f9d84023048>, 3),\n",
       " (<shapely.geometry.point.Point at 0x7f9d84023080>, 3),\n",
       " (<shapely.geometry.point.Point at 0x7f9d840232e8>, 3),\n",
       " (<shapely.geometry.point.Point at 0x7f9d84023128>, 3),\n",
       " (<shapely.geometry.point.Point at 0x7f9d84023198>, 3),\n",
       " (<shapely.geometry.point.Point at 0x7f9d84023438>, 3),\n",
       " (<shapely.geometry.point.Point at 0x7f9d84023550>, 3),\n",
       " (<shapely.geometry.point.Point at 0x7f9d84023518>, 3),\n",
       " (<shapely.geometry.point.Point at 0x7f9d84023588>, 3),\n",
       " (<shapely.geometry.point.Point at 0x7f9d840235f8>, 3),\n",
       " (<shapely.geometry.point.Point at 0x7f9d840236d8>, 3),\n",
       " (<shapely.geometry.point.Point at 0x7f9d84023748>, 3),\n",
       " (<shapely.geometry.point.Point at 0x7f9d840237b8>, 3),\n",
       " (<shapely.geometry.point.Point at 0x7f9d84023668>, 3),\n",
       " (<shapely.geometry.point.Point at 0x7f9d84023710>, 3),\n",
       " (<shapely.geometry.point.Point at 0x7f9d84023828>, 3),\n",
       " (<shapely.geometry.point.Point at 0x7f9d840238d0>, 3),\n",
       " (<shapely.geometry.point.Point at 0x7f9d840239b0>, 3),\n",
       " (<shapely.geometry.point.Point at 0x7f9d84023978>, 3),\n",
       " (<shapely.geometry.point.Point at 0x7f9d84023a20>, 3),\n",
       " (<shapely.geometry.point.Point at 0x7f9d84023b00>, 3),\n",
       " (<shapely.geometry.point.Point at 0x7f9d84023be0>, 3),\n",
       " (<shapely.geometry.point.Point at 0x7f9d84023ba8>, 3),\n",
       " (<shapely.geometry.point.Point at 0x7f9d84023c50>, 3),\n",
       " (<shapely.geometry.point.Point at 0x7f9d84023c88>, 3),\n",
       " (<shapely.geometry.point.Point at 0x7f9d84023c18>, 3),\n",
       " (<shapely.geometry.point.Point at 0x7f9d84023cf8>, 3),\n",
       " (<shapely.geometry.point.Point at 0x7f9d84023d68>, 3),\n",
       " (<shapely.geometry.point.Point at 0x7f9d84023da0>, 3),\n",
       " (<shapely.geometry.point.Point at 0x7f9d84023dd8>, 3),\n",
       " (<shapely.geometry.point.Point at 0x7f9d84023e80>, 3),\n",
       " (<shapely.geometry.point.Point at 0x7f9d84023eb8>, 3),\n",
       " (<shapely.geometry.point.Point at 0x7f9d84023e10>, 3),\n",
       " (<shapely.geometry.point.Point at 0x7f9d84023f28>, 3),\n",
       " (<shapely.geometry.point.Point at 0x7f9d84023f60>, 3),\n",
       " (<shapely.geometry.point.Point at 0x7f9d84023e48>, 3),\n",
       " (<shapely.geometry.point.Point at 0x7f9d84023f98>, 3),\n",
       " (<shapely.geometry.point.Point at 0x7f9d840290b8>, 3),\n",
       " (<shapely.geometry.point.Point at 0x7f9d84029128>, 3),\n",
       " (<shapely.geometry.point.Point at 0x7f9d84029160>, 3),\n",
       " (<shapely.geometry.point.Point at 0x7f9d840291d0>, 3),\n",
       " (<shapely.geometry.point.Point at 0x7f9d84029278>, 3),\n",
       " (<shapely.geometry.point.Point at 0x7f9d847d3748>, 2),\n",
       " (<shapely.geometry.point.Point at 0x7f9d847d3be0>, 2),\n",
       " (<shapely.geometry.point.Point at 0x7f9d847d3dd8>, 2),\n",
       " (<shapely.geometry.point.Point at 0x7f9d847d3e80>, 2),\n",
       " (<shapely.geometry.point.Point at 0x7f9d840230b8>, 2),\n",
       " (<shapely.geometry.point.Point at 0x7f9d840234a8>, 2),\n",
       " (<shapely.geometry.point.Point at 0x7f9d840235c0>, 2),\n",
       " (<shapely.geometry.point.Point at 0x7f9d84023630>, 2),\n",
       " (<shapely.geometry.point.Point at 0x7f9d840236a0>, 2),\n",
       " (<shapely.geometry.point.Point at 0x7f9d84023940>, 2),\n",
       " (<shapely.geometry.point.Point at 0x7f9d840239e8>, 2),\n",
       " (<shapely.geometry.point.Point at 0x7f9d84023a90>, 2),\n",
       " (<shapely.geometry.point.Point at 0x7f9d84023b38>, 2),\n",
       " (<shapely.geometry.point.Point at 0x7f9d84023cc0>, 2),\n",
       " (<shapely.geometry.point.Point at 0x7f9d84023d30>, 2),\n",
       " (<shapely.geometry.point.Point at 0x7f9d84029080>, 2),\n",
       " (<shapely.geometry.point.Point at 0x7f9d840290f0>, 2),\n",
       " (<shapely.geometry.point.Point at 0x7f9d84029198>, 2),\n",
       " (<shapely.geometry.point.Point at 0x7f9d840292b0>, 2),\n",
       " (<shapely.geometry.point.Point at 0x7f9d840292e8>, 2)]"
      ]
     },
     "execution_count": 19,
     "metadata": {},
     "output_type": "execute_result"
    }
   ],
   "source": [
    "def takeSecond(elem):\n",
    "    return elem[1]\n",
    "\n",
    "fires_by_countrie.sort(key=takeSecond, reverse=True)\n",
    "fires_by_countrie"
   ]
  },
  {
   "cell_type": "code",
   "execution_count": 20,
   "metadata": {},
   "outputs": [
    {
     "name": "stdout",
     "output_type": "stream",
     "text": [
      "POINT (-6.36999230398039 -35.0090361817886)\n"
     ]
    }
   ],
   "source": [
    "print(fires_by_countrie[1][0])"
   ]
  }
 ],
 "metadata": {
  "kernelspec": {
   "display_name": "Python 3",
   "language": "python",
   "name": "python3"
  },
  "language_info": {
   "codemirror_mode": {
    "name": "ipython",
    "version": 3
   },
   "file_extension": ".py",
   "mimetype": "text/x-python",
   "name": "python",
   "nbconvert_exporter": "python",
   "pygments_lexer": "ipython3",
   "version": "3.6.8"
  }
 },
 "nbformat": 4,
 "nbformat_minor": 2
}
